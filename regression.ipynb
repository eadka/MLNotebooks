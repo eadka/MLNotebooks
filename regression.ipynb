{
 "cells": [
  {
   "cell_type": "markdown",
   "id": "d0e529ae-11a4-4e06-9855-952f36120f78",
   "metadata": {},
   "source": [
    "This regression notebook is an adaptation of the Kaggle notbook by [Serigne](https://www.kaggle.com/code/serigne/stacked-regressions-top-4-on-leaderboard)"
   ]
  },
  {
   "cell_type": "code",
   "execution_count": null,
   "id": "3baba958-c5d1-4119-ba39-ab5fc3bff0f2",
   "metadata": {},
   "outputs": [],
   "source": []
  }
 ],
 "metadata": {
  "kernelspec": {
   "display_name": "Python 3 (ipykernel)",
   "language": "python",
   "name": "python3"
  },
  "language_info": {
   "codemirror_mode": {
    "name": "ipython",
    "version": 3
   },
   "file_extension": ".py",
   "mimetype": "text/x-python",
   "name": "python",
   "nbconvert_exporter": "python",
   "pygments_lexer": "ipython3",
   "version": "3.12.1"
  }
 },
 "nbformat": 4,
 "nbformat_minor": 5
}
